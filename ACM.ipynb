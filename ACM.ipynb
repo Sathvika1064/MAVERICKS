{
  "nbformat": 4,
  "nbformat_minor": 0,
  "metadata": {
    "colab": {
      "provenance": []
    },
    "kernelspec": {
      "name": "python3",
      "display_name": "Python 3"
    },
    "language_info": {
      "name": "python"
    }
  },
  "cells": [
    {
      "cell_type": "code",
      "execution_count": null,
      "metadata": {
        "colab": {
          "base_uri": "https://localhost:8080/"
        },
        "id": "fe4NUWd-BIKk",
        "outputId": "ba49c663-993b-4fa6-8ac9-5fe2c2727f49"
      },
      "outputs": [
        {
          "output_type": "stream",
          "name": "stdout",
          "text": [
            "BITCOIN PREDICTED PRICE: \n"
          ]
        },
        {
          "output_type": "stream",
          "name": "stderr",
          "text": [
            "<ipython-input-5-0a7be6f00283>:102: FutureWarning: The frame.append method is deprecated and will be removed from pandas in a future version. Use pandas.concat instead.\n",
            "  current_data = current_data.append(pd.Series(current_price, index=current_data.columns), ignore_index=True)  # Append current price as a row to the DataFrame\n"
          ]
        },
        {
          "output_type": "stream",
          "name": "stdout",
          "text": [
            "27983.133828125\n",
            "\n",
            "ETHEREUM PREDICTED PRICE: \n"
          ]
        },
        {
          "output_type": "stream",
          "name": "stderr",
          "text": [
            "<ipython-input-5-0a7be6f00283>:102: FutureWarning: The frame.append method is deprecated and will be removed from pandas in a future version. Use pandas.concat instead.\n",
            "  current_data = current_data.append(pd.Series(current_price, index=current_data.columns), ignore_index=True)  # Append current price as a row to the DataFrame\n"
          ]
        },
        {
          "output_type": "stream",
          "name": "stdout",
          "text": [
            "1859.6545629882812\n",
            "\n",
            "LITECOIN  PREDICTED PRICE: \n"
          ]
        },
        {
          "output_type": "stream",
          "name": "stderr",
          "text": [
            "<ipython-input-5-0a7be6f00283>:102: FutureWarning: The frame.append method is deprecated and will be removed from pandas in a future version. Use pandas.concat instead.\n",
            "  current_data = current_data.append(pd.Series(current_price, index=current_data.columns), ignore_index=True)  # Append current price as a row to the DataFrame\n"
          ]
        },
        {
          "output_type": "stream",
          "name": "stdout",
          "text": [
            "91.34170166015625\n",
            "\n",
            "RIPPLE  PREDICTED PRICE: \n",
            "0.5103493738174438\n"
          ]
        },
        {
          "output_type": "stream",
          "name": "stderr",
          "text": [
            "<ipython-input-5-0a7be6f00283>:102: FutureWarning: The frame.append method is deprecated and will be removed from pandas in a future version. Use pandas.concat instead.\n",
            "  current_data = current_data.append(pd.Series(current_price, index=current_data.columns), ignore_index=True)  # Append current price as a row to the DataFrame\n"
          ]
        }
      ],
      "source": [
        "def prediction_func(currency_name):\n",
        "    from textblob import TextBlob\n",
        "    from bs4 import BeautifulSoup\n",
        "    import requests\n",
        "\n",
        "    class Analysis:\n",
        "        def _init_(self, term):\n",
        "            self.term = term\n",
        "            self.sentiment = 0\n",
        "            self.subjectivity = 0\n",
        "            self.url = 'https://www.google.com/search?q={0}&source=lnms&tbm=nws'.format(self.term)\n",
        "\n",
        "        def run(self):\n",
        "            response = requests.get(self.url)\n",
        "            soup = BeautifulSoup(response.text, 'html.parser')\n",
        "            headline_results = soup.find_all('div', class_='kCrYT')\n",
        "            for text in headline_results:\n",
        "                blob = TextBlob(text.get_text())    \n",
        "                self.sentiment += blob.sentiment.polarity / len(headline_results)\n",
        "                self.subjectivity += blob.sentiment.subjectivity / len(headline_results)\n",
        "            return (self.sentiment, self.subjectivity)\n",
        "            \n",
        "    #a= Analysis('bitcoin')\n",
        "    #a.run()\n",
        "    #print(a.term, a.subjectivity, a.sentiment)\n",
        "\n",
        "\n",
        "    import yfinance as yf\n",
        "    import os\n",
        "    import pandas as pd\n",
        "\n",
        "    btc_ticker = yf.Ticker(currency_name+\"-USD\")\n",
        "    btc=btc_ticker.history(period=\"max\")\n",
        "    btc.to_csv(\"btc.csv\")\n",
        "\n",
        "    del btc['Dividends']\n",
        "    del btc['Stock Splits']\n",
        "\n",
        "    import requests\n",
        "    from datetime import datetime\n",
        "    import yfinance as yf\n",
        "    import pandas as pd\n",
        "    from sklearn.model_selection import train_test_split\n",
        "    from sklearn.ensemble import RandomForestRegressor\n",
        "    from sklearn.linear_model import LinearRegression\n",
        "    from sklearn.metrics import mean_squared_error\n",
        "\n",
        "\n",
        "\n",
        "    # Fetch real-time data using CoinGecko API\n",
        "    if currency_name==\"BTC\":\n",
        "      crypto_id='bitcoin'\n",
        "    if currency_name==\"ETH\":\n",
        "      crypto_id='ethereum'\n",
        "    if currency_name==\"XRP\":\n",
        "      crypto_id='ripple'\n",
        "    if currency_name==\"LTC\":\n",
        "      crypto_id='litecoin'\n",
        "    if currency_name==\"USDC\":\n",
        "      crypto_id='usdcoin'\n",
        "    if currency_name==\"USDT\":\n",
        "      crypto_id='usdt'\n",
        "\n",
        "    #crypto_id = currency_name  # Example: 'bitcoin'\n",
        "    vs_currency = 'usd'  # Example: 'usd'\n",
        "    real_time_url = f'https://api.coingecko.com/api/v3/simple/price?ids={crypto_id}&vs_currencies={vs_currency}'\n",
        "    real_time_response = requests.get(real_time_url)\n",
        "    real_time_data = real_time_response.json()\n",
        "    current_price = real_time_data[crypto_id][vs_currency]\n",
        "\n",
        "\n",
        "    # Define a function to calculate the sentiment score for a given date\n",
        "    def get_sentiment(date):\n",
        "        term = currency_name+'price ' + date.strftime('%Y-%m-%d')\n",
        "        analysis = Analysis(term)\n",
        "        sentiment, subjectivity = analysis.run()\n",
        "        return sentiment\n",
        "\n",
        "    # Add a new column to the historical data for the sentiment score\n",
        "    btc['Sentiment'] = 0\n",
        "\n",
        "    # Calculate the sentiment score for each day in the historical data\n",
        "    for date in btc.index[-8:-1:-1]:\n",
        "        sentiment = get_sentiment(date)\n",
        "        btc.at[date, 'Sentiment'] = sentiment\n",
        "\n",
        "    # Prepare the historical data for model training\n",
        "    # Extract features and target variable\n",
        "    X = btc.drop(['Close'], axis=1)  # Features (excluding Close price)\n",
        "    y = btc['Close']  # Target variable (Close price)\n",
        "\n",
        "    # Split the data into training and testing sets\n",
        "    X_train, X_test, y_train, y_test = train_test_split(X, y, test_size=0.2, random_state=42)\n",
        "\n",
        "    # Train an ensemble model (e.g., RandomForestRegressor) using historical data\n",
        "    model = RandomForestRegressor(n_estimators=100, random_state=42)\n",
        "    model.fit(X_train, y_train)\n",
        "\n",
        "    # Use the trained model to make predictions\n",
        "    # Prepare current data for prediction\n",
        "    current_data = pd.DataFrame(columns=X.columns)  # Create an empty DataFrame with the same columns as historical data\n",
        "    current_data = current_data.append(pd.Series(current_price, index=current_data.columns), ignore_index=True)  # Append current price as a row to the DataFrame\n",
        "\n",
        "    # Make predictions using the trained model\n",
        "    prediction = model.predict(current_data)\n",
        "\n",
        "    # Print the predicted Bitcoin price\n",
        "    #print(f'Predicted price: {prediction[0]}')\n",
        "    return (prediction[0])\n",
        "\n",
        "print(\"BITCOIN PREDICTED PRICE: \")\n",
        "print(prediction_func(\"BTC\"))\n",
        "\n",
        "print(\"\\nETHEREUM PREDICTED PRICE: \")\n",
        "print(prediction_func(\"ETH\"))\n",
        "\n",
        "print(\"\\nLITECOIN  PREDICTED PRICE: \")\n",
        "print(prediction_func(\"LTC\"))\n",
        "\n",
        "print(\"\\nRIPPLE  PREDICTED PRICE: \")\n",
        "print(prediction_func(\"XRP\"))\n",
        "\n",
        "\n"
      ]
    }
  ]
}